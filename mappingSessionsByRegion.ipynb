{
 "cells": [
  {
   "cell_type": "code",
   "execution_count": null,
   "metadata": {},
   "outputs": [],
   "source": [
    "path = '/Users/bablidey/Documents/KOAA/files'"
   ]
  },
  {
   "cell_type": "code",
   "execution_count": null,
   "metadata": {},
   "outputs": [],
   "source": [
    "import os\n",
    "import pandas as pd\n",
    "\n",
    "# Directory containing the files\n",
    "directory = path\n",
    "\n",
    "# Initialize empty dictionaries to store data for sessions and users\n",
    "sessions_data = {}\n",
    "users_data = {}\n",
    "\n",
    "# Read each file in the directory\n",
    "for filename in os.listdir(directory):\n",
    "    if filename.endswith('.csv'):\n",
    "        # Extract the file name without extension\n",
    "        region_name = os.path.splitext(filename)[0]\n",
    "        \n",
    "        # Read the CSV file, skipping the first 9 lines\n",
    "        file_path = os.path.join(directory, filename)\n",
    "        df = pd.read_csv(file_path, skiprows=9)\n",
    "        \n",
    "        # Initialize dictionaries for the current region\n",
    "        sessions_data[region_name] = {}\n",
    "        users_data[region_name] = {}\n",
    "        \n",
    "        # Populate the dictionaries with month, sessions, and users data\n",
    "        for index, row in df.iterrows():\n",
    "            month = row['Month']\n",
    "            sessions = row['Sessions']\n",
    "            users = row['Users']\n",
    "            \n",
    "            sessions_data[region_name][month] = sessions\n",
    "            users_data[region_name][month] = users\n",
    "\n",
    "# Convert dictionaries to dataframes\n",
    "sessions_df = pd.DataFrame(sessions_data).transpose()\n",
    "users_df = pd.DataFrame(users_data).transpose()\n",
    "\n",
    "# Sort the columns of dataframes to ensure months are in ascending order\n",
    "sessions_df = sessions_df.reindex(sorted(sessions_df.columns), axis=1)\n",
    "users_df = users_df.reindex(sorted(users_df.columns), axis=1)\n",
    "\n",
    "# Display the resulting dataframes\n",
    "print(\"Sessions DataFrame:\")\n",
    "print(sessions_df)\n",
    "print(\"\\nUsers DataFrame:\")\n",
    "print(users_df)\n",
    "\n",
    "# Save the dataframes to CSV files\n",
    "sessions_df.to_csv('sessions_data.csv', index=True)\n",
    "users_df.to_csv('users_data.csv', index=True)\n"
   ]
  }
 ],
 "metadata": {
  "kernelspec": {
   "display_name": "Python 3",
   "language": "python",
   "name": "python3"
  },
  "language_info": {
   "codemirror_mode": {
    "name": "ipython",
    "version": 3
   },
   "file_extension": ".py",
   "mimetype": "text/x-python",
   "name": "python",
   "nbconvert_exporter": "python",
   "pygments_lexer": "ipython3",
   "version": "3.11.5"
  }
 },
 "nbformat": 4,
 "nbformat_minor": 2
}
